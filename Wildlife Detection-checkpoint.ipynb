{
 "cells": [
  {
   "cell_type": "code",
   "execution_count": null,
   "id": "574d7718",
   "metadata": {},
   "outputs": [],
   "source": []
  },
  {
   "cell_type": "code",
   "execution_count": 3,
   "id": "370f1362",
   "metadata": {
    "collapsed": true
   },
   "outputs": [
    {
     "name": "stdout",
     "output_type": "stream",
     "text": [
      "Requirement already satisfied: torch in c:\\users\\dell\\appdata\\local\\programs\\python\\python39\\lib\\site-packages (2.0.1)\n",
      "Requirement already satisfied: torchvision in c:\\users\\dell\\appdata\\local\\programs\\python\\python39\\lib\\site-packages (0.15.2)\n",
      "Requirement already satisfied: torchaudio in c:\\users\\dell\\appdata\\local\\programs\\python\\python39\\lib\\site-packages (2.0.2)\n",
      "Requirement already satisfied: filelock in c:\\users\\dell\\appdata\\local\\programs\\python\\python39\\lib\\site-packages (from torch) (3.12.2)\n",
      "Requirement already satisfied: networkx in c:\\users\\dell\\appdata\\local\\programs\\python\\python39\\lib\\site-packages (from torch) (2.8.5)\n",
      "Requirement already satisfied: sympy in c:\\users\\dell\\appdata\\local\\programs\\python\\python39\\lib\\site-packages (from torch) (1.12)\n",
      "Requirement already satisfied: typing-extensions in c:\\users\\dell\\appdata\\local\\programs\\python\\python39\\lib\\site-packages (from torch) (4.3.0)\n",
      "Requirement already satisfied: jinja2 in c:\\users\\dell\\appdata\\local\\programs\\python\\python39\\lib\\site-packages (from torch) (2.11.3)\n",
      "Requirement already satisfied: requests in c:\\users\\dell\\appdata\\local\\programs\\python\\python39\\lib\\site-packages (from torchvision) (2.32.3)\n",
      "Requirement already satisfied: pillow!=8.3.*,>=5.3.0 in c:\\users\\dell\\appdata\\local\\programs\\python\\python39\\lib\\site-packages (from torchvision) (10.4.0)\n",
      "Requirement already satisfied: numpy in c:\\users\\dell\\appdata\\local\\programs\\python\\python39\\lib\\site-packages (from torchvision) (1.23.5)\n",
      "Requirement already satisfied: MarkupSafe>=0.23 in c:\\users\\dell\\appdata\\local\\programs\\python\\python39\\lib\\site-packages (from jinja2->torch) (2.0.1)\n",
      "Requirement already satisfied: urllib3<3,>=1.21.1 in c:\\users\\dell\\appdata\\local\\programs\\python\\python39\\lib\\site-packages (from requests->torchvision) (1.26.12)\n",
      "Requirement already satisfied: charset-normalizer<4,>=2 in c:\\users\\dell\\appdata\\local\\programs\\python\\python39\\lib\\site-packages (from requests->torchvision) (2.1.1)\n",
      "Requirement already satisfied: idna<4,>=2.5 in c:\\users\\dell\\appdata\\local\\programs\\python\\python39\\lib\\site-packages (from requests->torchvision) (3.7)\n",
      "Requirement already satisfied: certifi>=2017.4.17 in c:\\users\\dell\\appdata\\local\\programs\\python\\python39\\lib\\site-packages (from requests->torchvision) (2022.9.24)\n",
      "Requirement already satisfied: mpmath>=0.19 in c:\\users\\dell\\appdata\\local\\programs\\python\\python39\\lib\\site-packages (from sympy->torch) (1.3.0)\n"
     ]
    },
    {
     "name": "stderr",
     "output_type": "stream",
     "text": [
      "WARNING: Ignoring invalid distribution -rotobuf (c:\\users\\dell\\appdata\\local\\programs\\python\\python39\\lib\\site-packages)\n",
      "WARNING: Ignoring invalid distribution -illow (c:\\users\\dell\\appdata\\local\\programs\\python\\python39\\lib\\site-packages)\n",
      "WARNING: Ignoring invalid distribution -rotobuf (c:\\users\\dell\\appdata\\local\\programs\\python\\python39\\lib\\site-packages)\n",
      "WARNING: Ignoring invalid distribution -illow (c:\\users\\dell\\appdata\\local\\programs\\python\\python39\\lib\\site-packages)\n",
      "WARNING: Ignoring invalid distribution -rotobuf (c:\\users\\dell\\appdata\\local\\programs\\python\\python39\\lib\\site-packages)\n",
      "WARNING: Ignoring invalid distribution -illow (c:\\users\\dell\\appdata\\local\\programs\\python\\python39\\lib\\site-packages)\n",
      "WARNING: Ignoring invalid distribution -rotobuf (c:\\users\\dell\\appdata\\local\\programs\\python\\python39\\lib\\site-packages)\n",
      "WARNING: Ignoring invalid distribution -illow (c:\\users\\dell\\appdata\\local\\programs\\python\\python39\\lib\\site-packages)\n",
      "WARNING: Ignoring invalid distribution -rotobuf (c:\\users\\dell\\appdata\\local\\programs\\python\\python39\\lib\\site-packages)\n",
      "WARNING: Ignoring invalid distribution -illow (c:\\users\\dell\\appdata\\local\\programs\\python\\python39\\lib\\site-packages)\n",
      "WARNING: Ignoring invalid distribution -rotobuf (c:\\users\\dell\\appdata\\local\\programs\\python\\python39\\lib\\site-packages)\n",
      "WARNING: Ignoring invalid distribution -illow (c:\\users\\dell\\appdata\\local\\programs\\python\\python39\\lib\\site-packages)\n",
      "\n",
      "[notice] A new release of pip available: 22.3.1 -> 24.2\n",
      "[notice] To update, run: python.exe -m pip install --upgrade pip\n"
     ]
    },
    {
     "name": "stdout",
     "output_type": "stream",
     "text": [
      "Requirement already satisfied: yolov5 in c:\\users\\dell\\appdata\\local\\programs\\python\\python39\\lib\\site-packages (7.0.13)\n",
      "Requirement already satisfied: sahi>=0.11.10 in c:\\users\\dell\\appdata\\local\\programs\\python\\python39\\lib\\site-packages (from yolov5) (0.11.18)\n",
      "Requirement already satisfied: gitpython>=3.1.30 in c:\\users\\dell\\appdata\\local\\programs\\python\\python39\\lib\\site-packages (from yolov5) (3.1.43)\n",
      "Requirement already satisfied: matplotlib>=3.3 in c:\\users\\dell\\appdata\\local\\programs\\python\\python39\\lib\\site-packages (from yolov5) (3.5.2)\n",
      "Requirement already satisfied: boto3>=1.19.1 in c:\\users\\dell\\appdata\\local\\programs\\python\\python39\\lib\\site-packages (from yolov5) (1.34.159)\n",
      "Requirement already satisfied: requests>=2.23.0 in c:\\users\\dell\\appdata\\local\\programs\\python\\python39\\lib\\site-packages (from yolov5) (2.32.3)\n",
      "Requirement already satisfied: numpy>=1.18.5 in c:\\users\\dell\\appdata\\local\\programs\\python\\python39\\lib\\site-packages (from yolov5) (1.23.5)\n",
      "Requirement already satisfied: huggingface-hub>=0.12.0 in c:\\users\\dell\\appdata\\local\\programs\\python\\python39\\lib\\site-packages (from yolov5) (0.24.5)\n",
      "Requirement already satisfied: tensorboard>=2.4.1 in c:\\users\\dell\\appdata\\local\\programs\\python\\python39\\lib\\site-packages (from yolov5) (2.11.2)\n",
      "Requirement already satisfied: PyYAML>=5.3.1 in c:\\users\\dell\\appdata\\local\\programs\\python\\python39\\lib\\site-packages (from yolov5) (5.4.1)\n",
      "Requirement already satisfied: pandas>=1.1.4 in c:\\users\\dell\\appdata\\local\\programs\\python\\python39\\lib\\site-packages (from yolov5) (1.4.3)\n",
      "Requirement already satisfied: psutil in c:\\users\\dell\\appdata\\local\\programs\\python\\python39\\lib\\site-packages (from yolov5) (5.9.2)\n",
      "Requirement already satisfied: setuptools>=65.5.1 in c:\\users\\dell\\appdata\\local\\programs\\python\\python39\\lib\\site-packages (from yolov5) (72.1.0)\n",
      "Requirement already satisfied: scipy>=1.4.1 in c:\\users\\dell\\appdata\\local\\programs\\python\\python39\\lib\\site-packages (from yolov5) (1.8.1)\n",
      "Requirement already satisfied: roboflow>=0.2.29 in c:\\users\\dell\\appdata\\local\\programs\\python\\python39\\lib\\site-packages (from yolov5) (1.1.38)\n",
      "Requirement already satisfied: tqdm>=4.64.0 in c:\\users\\dell\\appdata\\local\\programs\\python\\python39\\lib\\site-packages (from yolov5) (4.64.1)\n",
      "Requirement already satisfied: torch>=1.7.0 in c:\\users\\dell\\appdata\\local\\programs\\python\\python39\\lib\\site-packages (from yolov5) (2.0.1)\n",
      "Requirement already satisfied: ultralytics>=8.0.100 in c:\\users\\dell\\appdata\\local\\programs\\python\\python39\\lib\\site-packages (from yolov5) (8.2.76)\n",
      "Requirement already satisfied: fire in c:\\users\\dell\\appdata\\local\\programs\\python\\python39\\lib\\site-packages (from yolov5) (0.6.0)\n",
      "Requirement already satisfied: Pillow>=7.1.2 in c:\\users\\dell\\appdata\\local\\programs\\python\\python39\\lib\\site-packages (from yolov5) (10.4.0)\n",
      "Requirement already satisfied: opencv-python>=4.1.1 in c:\\users\\dell\\appdata\\local\\programs\\python\\python39\\lib\\site-packages (from yolov5) (4.6.0.66)\n",
      "Requirement already satisfied: thop>=0.1.1 in c:\\users\\dell\\appdata\\local\\programs\\python\\python39\\lib\\site-packages (from yolov5) (0.1.1.post2209072238)\n",
      "Requirement already satisfied: seaborn>=0.11.0 in c:\\users\\dell\\appdata\\local\\programs\\python\\python39\\lib\\site-packages (from yolov5) (0.11.2)\n",
      "Requirement already satisfied: torchvision>=0.8.1 in c:\\users\\dell\\appdata\\local\\programs\\python\\python39\\lib\\site-packages (from yolov5) (0.15.2)\n",
      "Requirement already satisfied: botocore<1.35.0,>=1.34.159 in c:\\users\\dell\\appdata\\local\\programs\\python\\python39\\lib\\site-packages (from boto3>=1.19.1->yolov5) (1.34.159)\n",
      "Requirement already satisfied: s3transfer<0.11.0,>=0.10.0 in c:\\users\\dell\\appdata\\local\\programs\\python\\python39\\lib\\site-packages (from boto3>=1.19.1->yolov5) (0.10.2)\n",
      "Requirement already satisfied: jmespath<2.0.0,>=0.7.1 in c:\\users\\dell\\appdata\\local\\programs\\python\\python39\\lib\\site-packages (from boto3>=1.19.1->yolov5) (1.0.1)\n",
      "Requirement already satisfied: gitdb<5,>=4.0.1 in c:\\users\\dell\\appdata\\local\\programs\\python\\python39\\lib\\site-packages (from gitpython>=3.1.30->yolov5) (4.0.10)\n",
      "Requirement already satisfied: filelock in c:\\users\\dell\\appdata\\local\\programs\\python\\python39\\lib\\site-packages (from huggingface-hub>=0.12.0->yolov5) (3.12.2)\n",
      "Requirement already satisfied: fsspec>=2023.5.0 in c:\\users\\dell\\appdata\\local\\programs\\python\\python39\\lib\\site-packages (from huggingface-hub>=0.12.0->yolov5) (2024.6.1)\n",
      "Requirement already satisfied: typing-extensions>=3.7.4.3 in c:\\users\\dell\\appdata\\local\\programs\\python\\python39\\lib\\site-packages (from huggingface-hub>=0.12.0->yolov5) (4.3.0)\n",
      "Requirement already satisfied: packaging>=20.9 in c:\\users\\dell\\appdata\\local\\programs\\python\\python39\\lib\\site-packages (from huggingface-hub>=0.12.0->yolov5) (21.3)\n",
      "Requirement already satisfied: pyparsing>=2.2.1 in c:\\users\\dell\\appdata\\local\\programs\\python\\python39\\lib\\site-packages (from matplotlib>=3.3->yolov5) (3.0.9)\n",
      "Requirement already satisfied: cycler>=0.10 in c:\\users\\dell\\appdata\\local\\programs\\python\\python39\\lib\\site-packages (from matplotlib>=3.3->yolov5) (0.11.0)\n",
      "Requirement already satisfied: kiwisolver>=1.0.1 in c:\\users\\dell\\appdata\\local\\programs\\python\\python39\\lib\\site-packages (from matplotlib>=3.3->yolov5) (1.4.4)\n",
      "Requirement already satisfied: fonttools>=4.22.0 in c:\\users\\dell\\appdata\\local\\programs\\python\\python39\\lib\\site-packages (from matplotlib>=3.3->yolov5) (4.34.4)\n",
      "Requirement already satisfied: python-dateutil>=2.7 in c:\\users\\dell\\appdata\\local\\programs\\python\\python39\\lib\\site-packages (from matplotlib>=3.3->yolov5) (2.8.2)\n",
      "Requirement already satisfied: pytz>=2020.1 in c:\\users\\dell\\appdata\\local\\programs\\python\\python39\\lib\\site-packages (from pandas>=1.1.4->yolov5) (2022.7)\n",
      "Requirement already satisfied: certifi>=2017.4.17 in c:\\users\\dell\\appdata\\local\\programs\\python\\python39\\lib\\site-packages (from requests>=2.23.0->yolov5) (2022.9.24)\n",
      "Requirement already satisfied: charset-normalizer<4,>=2 in c:\\users\\dell\\appdata\\local\\programs\\python\\python39\\lib\\site-packages (from requests>=2.23.0->yolov5) (2.1.1)\n",
      "Requirement already satisfied: urllib3<3,>=1.21.1 in c:\\users\\dell\\appdata\\local\\programs\\python\\python39\\lib\\site-packages (from requests>=2.23.0->yolov5) (1.26.12)\n",
      "Requirement already satisfied: idna<4,>=2.5 in c:\\users\\dell\\appdata\\local\\programs\\python\\python39\\lib\\site-packages (from requests>=2.23.0->yolov5) (3.7)\n",
      "Requirement already satisfied: requests-toolbelt in c:\\users\\dell\\appdata\\local\\programs\\python\\python39\\lib\\site-packages (from roboflow>=0.2.29->yolov5) (0.10.1)\n",
      "Requirement already satisfied: opencv-python-headless==4.10.0.84 in c:\\users\\dell\\appdata\\local\\programs\\python\\python39\\lib\\site-packages (from roboflow>=0.2.29->yolov5) (4.10.0.84)\n",
      "Requirement already satisfied: six in c:\\users\\dell\\appdata\\local\\programs\\python\\python39\\lib\\site-packages (from roboflow>=0.2.29->yolov5) (1.16.0)\n",
      "Requirement already satisfied: python-dotenv in c:\\users\\dell\\appdata\\local\\programs\\python\\python39\\lib\\site-packages (from roboflow>=0.2.29->yolov5) (0.16.0)\n",
      "Requirement already satisfied: filetype in c:\\users\\dell\\appdata\\local\\programs\\python\\python39\\lib\\site-packages (from roboflow>=0.2.29->yolov5) (1.2.0)\n",
      "Requirement already satisfied: click in c:\\users\\dell\\appdata\\local\\programs\\python\\python39\\lib\\site-packages (from sahi>=0.11.10->yolov5) (7.1.2)\n",
      "Requirement already satisfied: pybboxes==0.1.6 in c:\\users\\dell\\appdata\\local\\programs\\python\\python39\\lib\\site-packages (from sahi>=0.11.10->yolov5) (0.1.6)\n",
      "Requirement already satisfied: shapely>=1.8.0 in c:\\users\\dell\\appdata\\local\\programs\\python\\python39\\lib\\site-packages (from sahi>=0.11.10->yolov5) (2.0.3)\n",
      "Requirement already satisfied: terminaltables in c:\\users\\dell\\appdata\\local\\programs\\python\\python39\\lib\\site-packages (from sahi>=0.11.10->yolov5) (3.1.10)\n",
      "Requirement already satisfied: tensorboard-plugin-wit>=1.6.0 in c:\\users\\dell\\appdata\\local\\programs\\python\\python39\\lib\\site-packages (from tensorboard>=2.4.1->yolov5) (1.8.1)\n",
      "Requirement already satisfied: google-auth<3,>=1.6.3 in c:\\users\\dell\\appdata\\local\\programs\\python\\python39\\lib\\site-packages (from tensorboard>=2.4.1->yolov5) (2.29.0)\n",
      "Requirement already satisfied: google-auth-oauthlib<0.5,>=0.4.1 in c:\\users\\dell\\appdata\\local\\programs\\python\\python39\\lib\\site-packages (from tensorboard>=2.4.1->yolov5) (0.4.6)\n",
      "Requirement already satisfied: protobuf<4,>=3.9.2 in c:\\users\\dell\\appdata\\local\\programs\\python\\python39\\lib\\site-packages (from tensorboard>=2.4.1->yolov5) (3.19.5)\n",
      "Requirement already satisfied: grpcio>=1.24.3 in c:\\users\\dell\\appdata\\local\\programs\\python\\python39\\lib\\site-packages (from tensorboard>=2.4.1->yolov5) (1.62.2)\n",
      "Requirement already satisfied: werkzeug>=1.0.1 in c:\\users\\dell\\appdata\\local\\programs\\python\\python39\\lib\\site-packages (from tensorboard>=2.4.1->yolov5) (1.0.1)\n",
      "Requirement already satisfied: absl-py>=0.4 in c:\\users\\dell\\appdata\\local\\programs\\python\\python39\\lib\\site-packages (from tensorboard>=2.4.1->yolov5) (1.4.0)\n",
      "Requirement already satisfied: tensorboard-data-server<0.7.0,>=0.6.0 in c:\\users\\dell\\appdata\\local\\programs\\python\\python39\\lib\\site-packages (from tensorboard>=2.4.1->yolov5) (0.6.1)\n",
      "Requirement already satisfied: markdown>=2.6.8 in c:\\users\\dell\\appdata\\local\\programs\\python\\python39\\lib\\site-packages (from tensorboard>=2.4.1->yolov5) (3.4.1)\n",
      "Requirement already satisfied: wheel>=0.26 in c:\\users\\dell\\appdata\\local\\programs\\python\\python39\\lib\\site-packages (from tensorboard>=2.4.1->yolov5) (0.37.1)\n",
      "Requirement already satisfied: jinja2 in c:\\users\\dell\\appdata\\local\\programs\\python\\python39\\lib\\site-packages (from torch>=1.7.0->yolov5) (2.11.3)\n",
      "Requirement already satisfied: networkx in c:\\users\\dell\\appdata\\local\\programs\\python\\python39\\lib\\site-packages (from torch>=1.7.0->yolov5) (2.8.5)\n",
      "Requirement already satisfied: sympy in c:\\users\\dell\\appdata\\local\\programs\\python\\python39\\lib\\site-packages (from torch>=1.7.0->yolov5) (1.12)\n",
      "Requirement already satisfied: colorama in c:\\users\\dell\\appdata\\roaming\\python\\python39\\site-packages (from tqdm>=4.64.0->yolov5) (0.4.6)\n",
      "Requirement already satisfied: ultralytics-thop>=2.0.0 in c:\\users\\dell\\appdata\\local\\programs\\python\\python39\\lib\\site-packages (from ultralytics>=8.0.100->yolov5) (2.0.0)\n",
      "Requirement already satisfied: py-cpuinfo in c:\\users\\dell\\appdata\\local\\programs\\python\\python39\\lib\\site-packages (from ultralytics>=8.0.100->yolov5) (9.0.0)\n",
      "Requirement already satisfied: termcolor in c:\\users\\dell\\appdata\\local\\programs\\python\\python39\\lib\\site-packages (from fire->yolov5) (2.2.0)\n",
      "Requirement already satisfied: smmap<6,>=3.0.1 in c:\\users\\dell\\appdata\\local\\programs\\python\\python39\\lib\\site-packages (from gitdb<5,>=4.0.1->gitpython>=3.1.30->yolov5) (5.0.0)\n",
      "Requirement already satisfied: pyasn1-modules>=0.2.1 in c:\\users\\dell\\appdata\\local\\programs\\python\\python39\\lib\\site-packages (from google-auth<3,>=1.6.3->tensorboard>=2.4.1->yolov5) (0.2.8)\n",
      "Requirement already satisfied: rsa<5,>=3.1.4 in c:\\users\\dell\\appdata\\local\\programs\\python\\python39\\lib\\site-packages (from google-auth<3,>=1.6.3->tensorboard>=2.4.1->yolov5) (4.9)\n",
      "Requirement already satisfied: cachetools<6.0,>=2.0.0 in c:\\users\\dell\\appdata\\local\\programs\\python\\python39\\lib\\site-packages (from google-auth<3,>=1.6.3->tensorboard>=2.4.1->yolov5) (5.2.0)\n",
      "Requirement already satisfied: requests-oauthlib>=0.7.0 in c:\\users\\dell\\appdata\\local\\programs\\python\\python39\\lib\\site-packages (from google-auth-oauthlib<0.5,>=0.4.1->tensorboard>=2.4.1->yolov5) (1.3.1)\n",
      "Requirement already satisfied: importlib-metadata>=4.4 in c:\\users\\dell\\appdata\\local\\programs\\python\\python39\\lib\\site-packages (from markdown>=2.6.8->tensorboard>=2.4.1->yolov5) (4.12.0)\n",
      "Requirement already satisfied: MarkupSafe>=0.23 in c:\\users\\dell\\appdata\\local\\programs\\python\\python39\\lib\\site-packages (from jinja2->torch>=1.7.0->yolov5) (2.0.1)\n",
      "Requirement already satisfied: mpmath>=0.19 in c:\\users\\dell\\appdata\\local\\programs\\python\\python39\\lib\\site-packages (from sympy->torch>=1.7.0->yolov5) (1.3.0)\n",
      "Requirement already satisfied: zipp>=0.5 in c:\\users\\dell\\appdata\\local\\programs\\python\\python39\\lib\\site-packages (from importlib-metadata>=4.4->markdown>=2.6.8->tensorboard>=2.4.1->yolov5) (3.8.1)\n",
      "Requirement already satisfied: pyasn1<0.5.0,>=0.4.6 in c:\\users\\dell\\appdata\\local\\programs\\python\\python39\\lib\\site-packages (from pyasn1-modules>=0.2.1->google-auth<3,>=1.6.3->tensorboard>=2.4.1->yolov5) (0.4.8)\n",
      "Requirement already satisfied: oauthlib>=3.0.0 in c:\\users\\dell\\appdata\\local\\programs\\python\\python39\\lib\\site-packages (from requests-oauthlib>=0.7.0->google-auth-oauthlib<0.5,>=0.4.1->tensorboard>=2.4.1->yolov5) (3.2.2)\n"
     ]
    },
    {
     "name": "stderr",
     "output_type": "stream",
     "text": [
      "WARNING: Ignoring invalid distribution -rotobuf (c:\\users\\dell\\appdata\\local\\programs\\python\\python39\\lib\\site-packages)\n",
      "WARNING: Ignoring invalid distribution -illow (c:\\users\\dell\\appdata\\local\\programs\\python\\python39\\lib\\site-packages)\n",
      "WARNING: Ignoring invalid distribution -rotobuf (c:\\users\\dell\\appdata\\local\\programs\\python\\python39\\lib\\site-packages)\n",
      "WARNING: Ignoring invalid distribution -illow (c:\\users\\dell\\appdata\\local\\programs\\python\\python39\\lib\\site-packages)\n",
      "WARNING: Ignoring invalid distribution -rotobuf (c:\\users\\dell\\appdata\\local\\programs\\python\\python39\\lib\\site-packages)\n",
      "WARNING: Ignoring invalid distribution -illow (c:\\users\\dell\\appdata\\local\\programs\\python\\python39\\lib\\site-packages)\n",
      "WARNING: Ignoring invalid distribution -rotobuf (c:\\users\\dell\\appdata\\local\\programs\\python\\python39\\lib\\site-packages)\n",
      "WARNING: Ignoring invalid distribution -illow (c:\\users\\dell\\appdata\\local\\programs\\python\\python39\\lib\\site-packages)\n",
      "WARNING: Ignoring invalid distribution -rotobuf (c:\\users\\dell\\appdata\\local\\programs\\python\\python39\\lib\\site-packages)\n",
      "WARNING: Ignoring invalid distribution -illow (c:\\users\\dell\\appdata\\local\\programs\\python\\python39\\lib\\site-packages)\n",
      "WARNING: Ignoring invalid distribution -rotobuf (c:\\users\\dell\\appdata\\local\\programs\\python\\python39\\lib\\site-packages)\n",
      "WARNING: Ignoring invalid distribution -illow (c:\\users\\dell\\appdata\\local\\programs\\python\\python39\\lib\\site-packages)\n",
      "\n",
      "[notice] A new release of pip available: 22.3.1 -> 24.2\n",
      "[notice] To update, run: python.exe -m pip install --upgrade pip\n"
     ]
    }
   ],
   "source": [
    "!pip install torch torchvision torchaudio\n",
    "!pip install yolov5"
   ]
  },
  {
   "cell_type": "code",
   "execution_count": 14,
   "id": "23ba3b84",
   "metadata": {},
   "outputs": [
    {
     "name": "stderr",
     "output_type": "stream",
     "text": [
      "Using cache found in C:\\Users\\DELL/.cache\\torch\\hub\\ultralytics_yolov5_master\n",
      "YOLOv5  2024-8-13 Python-3.9.6 torch-2.0.1+cpu CPU\n",
      "\n",
      "Fusing layers... \n",
      "YOLOv5s summary: 213 layers, 7225885 parameters, 0 gradients\n",
      "Adding AutoShape... \n"
     ]
    },
    {
     "ename": "FileNotFoundError",
     "evalue": "[Errno 2] No such file or directory: 'C:\\\\Users\\\\DELL\\\\Downloads\\\\elephant2.jpeg'",
     "output_type": "error",
     "traceback": [
      "\u001b[1;31m---------------------------------------------------------------------------\u001b[0m",
      "\u001b[1;31mFileNotFoundError\u001b[0m                         Traceback (most recent call last)",
      "Input \u001b[1;32mIn [14]\u001b[0m, in \u001b[0;36m<cell line: 12>\u001b[1;34m()\u001b[0m\n\u001b[0;32m     10\u001b[0m \u001b[38;5;66;03m# Load your custom image\u001b[39;00m\n\u001b[0;32m     11\u001b[0m img_path \u001b[38;5;241m=\u001b[39m \u001b[38;5;124mr\u001b[39m\u001b[38;5;124m\"\u001b[39m\u001b[38;5;124mC:\u001b[39m\u001b[38;5;124m\\\u001b[39m\u001b[38;5;124mUsers\u001b[39m\u001b[38;5;124m\\\u001b[39m\u001b[38;5;124mDELL\u001b[39m\u001b[38;5;124m\\\u001b[39m\u001b[38;5;124mDownloads\u001b[39m\u001b[38;5;124m\\\u001b[39m\u001b[38;5;124melephant2.jpeg\u001b[39m\u001b[38;5;124m\"\u001b[39m\n\u001b[1;32m---> 12\u001b[0m img \u001b[38;5;241m=\u001b[39m \u001b[43mImage\u001b[49m\u001b[38;5;241;43m.\u001b[39;49m\u001b[43mopen\u001b[49m\u001b[43m(\u001b[49m\u001b[43mimg_path\u001b[49m\u001b[43m)\u001b[49m\n\u001b[0;32m     14\u001b[0m \u001b[38;5;66;03m# Perform inference\u001b[39;00m\n\u001b[0;32m     15\u001b[0m results \u001b[38;5;241m=\u001b[39m model(img)\n",
      "File \u001b[1;32mc:\\users\\dell\\appdata\\local\\programs\\python\\python39\\lib\\site-packages\\PIL\\Image.py:3431\u001b[0m, in \u001b[0;36mopen\u001b[1;34m(fp, mode, formats)\u001b[0m\n\u001b[0;32m   3428\u001b[0m     filename \u001b[38;5;241m=\u001b[39m os\u001b[38;5;241m.\u001b[39mpath\u001b[38;5;241m.\u001b[39mrealpath(os\u001b[38;5;241m.\u001b[39mfspath(fp))\n\u001b[0;32m   3430\u001b[0m \u001b[38;5;28;01mif\u001b[39;00m filename:\n\u001b[1;32m-> 3431\u001b[0m     fp \u001b[38;5;241m=\u001b[39m \u001b[43mbuiltins\u001b[49m\u001b[38;5;241;43m.\u001b[39;49m\u001b[43mopen\u001b[49m\u001b[43m(\u001b[49m\u001b[43mfilename\u001b[49m\u001b[43m,\u001b[49m\u001b[43m \u001b[49m\u001b[38;5;124;43m\"\u001b[39;49m\u001b[38;5;124;43mrb\u001b[39;49m\u001b[38;5;124;43m\"\u001b[39;49m\u001b[43m)\u001b[49m\n\u001b[0;32m   3432\u001b[0m     exclusive_fp \u001b[38;5;241m=\u001b[39m \u001b[38;5;28;01mTrue\u001b[39;00m\n\u001b[0;32m   3433\u001b[0m \u001b[38;5;28;01melse\u001b[39;00m:\n",
      "\u001b[1;31mFileNotFoundError\u001b[0m: [Errno 2] No such file or directory: 'C:\\\\Users\\\\DELL\\\\Downloads\\\\elephant2.jpeg'"
     ]
    }
   ],
   "source": [
    "import torch\n",
    "from PIL import Image\n",
    "\n",
    "# Loading the YOLOv5 model pre-trained\n",
    "model = torch.hub.load('ultralytics/yolov5', 'yolov5s', pretrained=True)\n",
    "\n",
    "# Set confidence threshold (optional)\n",
    "model.conf = 0.25  # Confidence threshold for detections\n",
    "\n",
    "# Load your custom image\n",
    "img_path = r\"C:\\Users\\DELL\\Downloads\\elephant2.jpg\"\n",
    "img = Image.open(img_path)\n",
    "\n",
    "# Perform inference\n",
    "results = model(img)\n",
    "\n",
    "# Print results\n",
    "results.print()\n",
    "\n",
    "# Save results (annotated image)\n",
    "results.save(save_dir='static/inference_output')  # Annotated image will be saved in the 'inference_output' folder\n",
    "\n",
    "# Display results\n",
    "results.show()  # Display image with bounding boxes and labels\n",
    "\n",
    "# Optionally, get results as pandas DataFrame\n",
    "df = results.pandas().xyxy[0]  # Bounding box coordinates and confidence scores\n",
    "print(df)\n"
   ]
  },
  {
   "cell_type": "code",
   "execution_count": 6,
   "id": "ee96d02f",
   "metadata": {},
   "outputs": [],
   "source": [
    "import os, glob\n",
    "output_dir = r\"C:\\Users\\DELL\\Documents\\anveshana\\Wildlife Detection\\static\\inference_output\"\n",
    "# os.makedirs(output_dir, exist_ok=True)  # Create the directory if it doesn't exist\n",
    "parent_dir = os.path.dirname(output_dir)\n",
    "latest_folder = os.path.join(\n",
    "    parent_dir, \n",
    "    sorted(\n",
    "        [d for d in os.listdir(parent_dir) if os.path.isdir(os.path.join(parent_dir, d))], \n",
    "        key=lambda x: os.path.getmtime(os.path.join(parent_dir, x))\n",
    "    )[-1]\n",
    ")"
   ]
  },
  {
   "cell_type": "code",
   "execution_count": 7,
   "id": "5ed5fd3a",
   "metadata": {},
   "outputs": [
    {
     "name": "stdout",
     "output_type": "stream",
     "text": [
      "Latest image in the latest directory: C:\\Users\\DELL\\Documents\\anveshana\\Wildlife Detection\\static\\inference_output6\\elephant2.jpg\n"
     ]
    }
   ],
   "source": [
    "image_files = [f for f in os.listdir(latest_folder) if os.path.isfile(os.path.join(latest_folder, f))]\n",
    "latest_image = os.path.join(\n",
    "    latest_folder, \n",
    "    sorted(\n",
    "        image_files, \n",
    "        key=lambda x: os.path.getmtime(os.path.join(latest_folder, x))\n",
    "    )[-1]\n",
    ")\n",
    "\n",
    "# Print the path of the latest image\n",
    "print(f\"Latest image in the latest directory: {latest_image}\")\n"
   ]
  },
  {
   "cell_type": "code",
   "execution_count": 8,
   "id": "6d01cb64",
   "metadata": {},
   "outputs": [
    {
     "name": "stdout",
     "output_type": "stream",
     "text": [
      "Formatted Timestamp: 2024-08-14 10:39:46\n"
     ]
    }
   ],
   "source": [
    "from datetime import datetime\n",
    "\n",
    "# Get the current date and time\n",
    "current_timestamp = datetime.now()\n",
    "\n",
    "# Format the timestamp\n",
    "formatted_timestamp = current_timestamp.strftime(\"%Y-%m-%d %H:%M:%S\")\n",
    "\n",
    "# Print the formatted timestamp\n",
    "print(\"Formatted Timestamp:\", formatted_timestamp)\n"
   ]
  },
  {
   "cell_type": "markdown",
   "id": "05c3a41c",
   "metadata": {},
   "source": [
    "# Final Deliverables"
   ]
  },
  {
   "cell_type": "code",
   "execution_count": 44,
   "id": "98782c3f",
   "metadata": {},
   "outputs": [],
   "source": [
    "img_path = latest_image\n",
    "time_stamp = formatted_timestamp"
   ]
  },
  {
   "cell_type": "code",
   "execution_count": 23,
   "id": "6f5fad90",
   "metadata": {},
   "outputs": [
    {
     "name": "stdout",
     "output_type": "stream",
     "text": [
      " * Serving Flask app \"__main__\" (lazy loading)\n",
      " * Environment: production\n",
      "   WARNING: This is a development server. Do not use it in a production deployment.\n",
      "   Use a production WSGI server instead.\n",
      " * Debug mode: on\n"
     ]
    },
    {
     "name": "stderr",
     "output_type": "stream",
     "text": [
      " * Restarting with windowsapi reloader\n"
     ]
    },
    {
     "ename": "SystemExit",
     "evalue": "1",
     "output_type": "error",
     "traceback": [
      "An exception has occurred, use %tb to see the full traceback.\n",
      "\u001b[1;31mSystemExit\u001b[0m\u001b[1;31m:\u001b[0m 1\n"
     ]
    }
   ],
   "source": [
    "from flask import Flask, render_template\n",
    "from datetime import datetime\n",
    "\n",
    "app = Flask(__name__)\n",
    "\n",
    "@app.route('/', methods=['GET'])\n",
    "\n",
    "def index():\n",
    "     return render_template(\"Wildlife.html\")\n",
    "\n",
    "if __name__ == '__main__':\n",
    "    app.run(debug=True)\n"
   ]
  },
  {
   "cell_type": "code",
   "execution_count": 21,
   "id": "9706015d",
   "metadata": {},
   "outputs": [
    {
     "ename": "SystemExit",
     "evalue": "1",
     "output_type": "error",
     "traceback": [
      "\u001b[1;31m---------------------------------------------------------------------------\u001b[0m",
      "\u001b[1;31mSystemExit\u001b[0m                                Traceback (most recent call last)",
      "Input \u001b[1;32mIn [20]\u001b[0m, in \u001b[0;36m<cell line: 11>\u001b[1;34m()\u001b[0m\n\u001b[0;32m      9\u001b[0m      \u001b[38;5;28;01mreturn\u001b[39;00m render_template(\u001b[38;5;124m\"\u001b[39m\u001b[38;5;124mWildlife.html\u001b[39m\u001b[38;5;124m\"\u001b[39m)\n\u001b[0;32m     11\u001b[0m \u001b[38;5;28;01mif\u001b[39;00m \u001b[38;5;18m__name__\u001b[39m \u001b[38;5;241m==\u001b[39m \u001b[38;5;124m'\u001b[39m\u001b[38;5;124m__main__\u001b[39m\u001b[38;5;124m'\u001b[39m:\n\u001b[1;32m---> 12\u001b[0m     \u001b[43mapp\u001b[49m\u001b[38;5;241;43m.\u001b[39;49m\u001b[43mrun\u001b[49m\u001b[43m(\u001b[49m\u001b[43mdebug\u001b[49m\u001b[38;5;241;43m=\u001b[39;49m\u001b[38;5;28;43;01mTrue\u001b[39;49;00m\u001b[43m)\u001b[49m\n",
      "File \u001b[1;32mc:\\users\\dell\\appdata\\local\\programs\\python\\python39\\lib\\site-packages\\flask\\app.py:990\u001b[0m, in \u001b[0;36mFlask.run\u001b[1;34m(self, host, port, debug, load_dotenv, **options)\u001b[0m\n\u001b[0;32m    987\u001b[0m \u001b[38;5;28;01mfrom\u001b[39;00m \u001b[38;5;21;01mwerkzeug\u001b[39;00m\u001b[38;5;21;01m.\u001b[39;00m\u001b[38;5;21;01mserving\u001b[39;00m \u001b[38;5;28;01mimport\u001b[39;00m run_simple\n\u001b[0;32m    989\u001b[0m \u001b[38;5;28;01mtry\u001b[39;00m:\n\u001b[1;32m--> 990\u001b[0m     run_simple(host, port, \u001b[38;5;28mself\u001b[39m, \u001b[38;5;241m*\u001b[39m\u001b[38;5;241m*\u001b[39moptions)\n\u001b[0;32m    991\u001b[0m \u001b[38;5;28;01mfinally\u001b[39;00m:\n\u001b[0;32m    992\u001b[0m     \u001b[38;5;66;03m# reset the first request information if the development server\u001b[39;00m\n\u001b[0;32m    993\u001b[0m     \u001b[38;5;66;03m# reset normally.  This makes it possible to restart the server\u001b[39;00m\n\u001b[0;32m    994\u001b[0m     \u001b[38;5;66;03m# without reloader and that stuff from an interactive shell.\u001b[39;00m\n\u001b[0;32m    995\u001b[0m     \u001b[38;5;28mself\u001b[39m\u001b[38;5;241m.\u001b[39m_got_first_request \u001b[38;5;241m=\u001b[39m \u001b[38;5;28;01mFalse\u001b[39;00m\n",
      "File \u001b[1;32mc:\\users\\dell\\appdata\\local\\programs\\python\\python39\\lib\\site-packages\\werkzeug\\serving.py:1050\u001b[0m, in \u001b[0;36mrun_simple\u001b[1;34m(hostname, port, application, use_reloader, use_debugger, use_evalex, extra_files, reloader_interval, reloader_type, threaded, processes, request_handler, static_files, passthrough_errors, ssl_context)\u001b[0m\n\u001b[0;32m   1046\u001b[0m     \u001b[38;5;66;03m# Do not use relative imports, otherwise \"python -m werkzeug.serving\"\u001b[39;00m\n\u001b[0;32m   1047\u001b[0m     \u001b[38;5;66;03m# breaks.\u001b[39;00m\n\u001b[0;32m   1048\u001b[0m     \u001b[38;5;28;01mfrom\u001b[39;00m \u001b[38;5;21;01m.\u001b[39;00m\u001b[38;5;21;01m_reloader\u001b[39;00m \u001b[38;5;28;01mimport\u001b[39;00m run_with_reloader\n\u001b[1;32m-> 1050\u001b[0m     \u001b[43mrun_with_reloader\u001b[49m\u001b[43m(\u001b[49m\u001b[43minner\u001b[49m\u001b[43m,\u001b[49m\u001b[43m \u001b[49m\u001b[43mextra_files\u001b[49m\u001b[43m,\u001b[49m\u001b[43m \u001b[49m\u001b[43mreloader_interval\u001b[49m\u001b[43m,\u001b[49m\u001b[43m \u001b[49m\u001b[43mreloader_type\u001b[49m\u001b[43m)\u001b[49m\n\u001b[0;32m   1051\u001b[0m \u001b[38;5;28;01melse\u001b[39;00m:\n\u001b[0;32m   1052\u001b[0m     inner()\n",
      "File \u001b[1;32mc:\\users\\dell\\appdata\\local\\programs\\python\\python39\\lib\\site-packages\\werkzeug\\_reloader.py:339\u001b[0m, in \u001b[0;36mrun_with_reloader\u001b[1;34m(main_func, extra_files, interval, reloader_type)\u001b[0m\n\u001b[0;32m    337\u001b[0m         reloader\u001b[38;5;241m.\u001b[39mrun()\n\u001b[0;32m    338\u001b[0m     \u001b[38;5;28;01melse\u001b[39;00m:\n\u001b[1;32m--> 339\u001b[0m         \u001b[43msys\u001b[49m\u001b[38;5;241;43m.\u001b[39;49m\u001b[43mexit\u001b[49m\u001b[43m(\u001b[49m\u001b[43mreloader\u001b[49m\u001b[38;5;241;43m.\u001b[39;49m\u001b[43mrestart_with_reloader\u001b[49m\u001b[43m(\u001b[49m\u001b[43m)\u001b[49m\u001b[43m)\u001b[49m\n\u001b[0;32m    340\u001b[0m \u001b[38;5;28;01mexcept\u001b[39;00m \u001b[38;5;167;01mKeyboardInterrupt\u001b[39;00m:\n\u001b[0;32m    341\u001b[0m     \u001b[38;5;28;01mpass\u001b[39;00m\n",
      "\u001b[1;31mSystemExit\u001b[0m: 1"
     ]
    }
   ],
   "source": [
    "%tb"
   ]
  },
  {
   "cell_type": "code",
   "execution_count": null,
   "id": "63142764",
   "metadata": {},
   "outputs": [],
   "source": []
  }
 ],
 "metadata": {
  "kernelspec": {
   "display_name": "Python 3 (ipykernel)",
   "language": "python",
   "name": "python3"
  },
  "language_info": {
   "codemirror_mode": {
    "name": "ipython",
    "version": 3
   },
   "file_extension": ".py",
   "mimetype": "text/x-python",
   "name": "python",
   "nbconvert_exporter": "python",
   "pygments_lexer": "ipython3",
   "version": "3.9.6"
  }
 },
 "nbformat": 4,
 "nbformat_minor": 5
}
